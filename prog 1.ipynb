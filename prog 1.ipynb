{
 "cells": [
  {
   "cell_type": "code",
   "execution_count": 4,
   "metadata": {},
   "outputs": [],
   "source": [
    "n1=[19,12,35,8,87,2]"
   ]
  },
  {
   "cell_type": "code",
   "execution_count": 5,
   "metadata": {},
   "outputs": [],
   "source": [
    "def meannum(lis):\n",
    "    k = 0\n",
    "    for i in range(len(lis)):\n",
    "        k += lis[i]\n",
    "    avg  = k/len(lis)\n",
    "    return avg\n",
    "        "
   ]
  },
  {
   "cell_type": "code",
   "execution_count": 6,
   "metadata": {},
   "outputs": [
    {
     "data": {
      "text/plain": [
       "27.166666666666668"
      ]
     },
     "execution_count": 6,
     "metadata": {},
     "output_type": "execute_result"
    }
   ],
   "source": [
    "meannum(n1)"
   ]
  },
  {
   "cell_type": "code",
   "execution_count": 7,
   "metadata": {},
   "outputs": [],
   "source": [
    "def median_num(n1):\n",
    "    n1.sort()\n",
    "    i = 0\n",
    "    if(len(n1)%2==0):\n",
    "        mid = (len(n1)-1)//2\n",
    "        mid1 = len(n1)//2\n",
    "        median = (n1[mid]+n1[mid1])//2\n",
    "        return median\n",
    "    else:\n",
    "        i = (len(n1)-1)//2\n",
    "        return n1[i]\n",
    "        \n",
    "    "
   ]
  },
  {
   "cell_type": "code",
   "execution_count": 8,
   "metadata": {},
   "outputs": [
    {
     "data": {
      "text/plain": [
       "15"
      ]
     },
     "execution_count": 8,
     "metadata": {},
     "output_type": "execute_result"
    }
   ],
   "source": [
    "median_num(n1)"
   ]
  },
  {
   "cell_type": "code",
   "execution_count": 60,
   "metadata": {},
   "outputs": [],
   "source": [
    "lis = [1,2,4,4,3,1,5,4]"
   ]
  },
  {
   "cell_type": "code",
   "execution_count": 61,
   "metadata": {},
   "outputs": [
    {
     "data": {
      "text/plain": [
       "[4]"
      ]
     },
     "execution_count": 61,
     "metadata": {},
     "output_type": "execute_result"
    }
   ],
   "source": [
    "def mode(lis):\n",
    "    value = {}\n",
    "    for i in lis:\n",
    "        value[i] = value.get(i,0)+1\n",
    "        max_ele = max(value.values())\n",
    "        mod_num = [a for a, i in value.items() if i== max_ele]\n",
    "    return mod_num\n",
    "\n",
    "mode(lis)\n",
    "\n",
    "        "
   ]
  },
  {
   "cell_type": "code",
   "execution_count": 101,
   "metadata": {},
   "outputs": [
    {
     "data": {
      "text/plain": [
       "300.0"
      ]
     },
     "execution_count": 101,
     "metadata": {},
     "output_type": "execute_result"
    }
   ],
   "source": [
    "import numpy as np\n",
    "l = [100,200,300,400,500]\n",
    "np.mean(l)"
   ]
  },
  {
   "cell_type": "code",
   "execution_count": 102,
   "metadata": {},
   "outputs": [],
   "source": [
    "import math\n",
    "def std_devia(l,m):\n",
    "    sd = 0\n",
    "    for i in range(len(l)):\n",
    "        sd = sd + (m - n1[i])**2\n",
    "        sd = sd/len(n1)\n",
    "        return math.sqrt(sd)\n",
    "    "
   ]
  },
  {
   "cell_type": "code",
   "execution_count": 103,
   "metadata": {},
   "outputs": [
    {
     "data": {
      "text/plain": [
       "121.65799055823118"
      ]
     },
     "execution_count": 103,
     "metadata": {},
     "output_type": "execute_result"
    }
   ],
   "source": [
    "std_devia(n1,300)"
   ]
  },
  {
   "cell_type": "code",
   "execution_count": 104,
   "metadata": {},
   "outputs": [
    {
     "name": "stdout",
     "output_type": "stream",
     "text": [
      "[100, 200, 300, 400, 500]:[0.0, 0.25, 0.5, 0.75, 1.0]\n"
     ]
    }
   ],
   "source": [
    "def std_nor(l):\n",
    "    max_num = max(l)\n",
    "    min_num = min(l)\n",
    "    normal = []\n",
    "    for a in l:\n",
    "        norm = (a - min_num)/(max_num - min_num)\n",
    "        normal.append(norm)\n",
    "    print(\"{}:{}\".format(l,normal))\n",
    "\n",
    "std_nor(l)\n"
   ]
  },
  {
   "cell_type": "code",
   "execution_count": 105,
   "metadata": {},
   "outputs": [],
   "source": [
    "def standardization(l):\n",
    "    meann = np.mean(l)\n",
    "    sd = np.std(l)\n",
    "    normal = []\n",
    "    for b in l:\n",
    "        stan = (b - meann)/sd\n",
    "        normal.append(stan)\n",
    "    print(\"{}:{}\".format(l,normal))\n",
    "    "
   ]
  },
  {
   "cell_type": "code",
   "execution_count": 106,
   "metadata": {},
   "outputs": [
    {
     "name": "stdout",
     "output_type": "stream",
     "text": [
      "[100, 200, 300, 400, 500]:[-1.414213562373095, -0.7071067811865475, 0.0, 0.7071067811865475, 1.414213562373095]\n"
     ]
    }
   ],
   "source": [
    "standardization(l)"
   ]
  },
  {
   "cell_type": "code",
   "execution_count": null,
   "metadata": {},
   "outputs": [],
   "source": []
  }
 ],
 "metadata": {
  "kernelspec": {
   "display_name": "Python 3",
   "language": "python",
   "name": "python3"
  },
  "language_info": {
   "codemirror_mode": {
    "name": "ipython",
    "version": 3
   },
   "file_extension": ".py",
   "mimetype": "text/x-python",
   "name": "python",
   "nbconvert_exporter": "python",
   "pygments_lexer": "ipython3",
   "version": "3.8.5"
  }
 },
 "nbformat": 4,
 "nbformat_minor": 4
}
